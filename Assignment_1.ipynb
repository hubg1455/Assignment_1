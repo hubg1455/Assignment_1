{
 "cells": [
  {
   "cell_type": "markdown",
   "id": "2ebc706b",
   "metadata": {},
   "source": [
    "1. In the below elements which of them are values or an expression? eg:- values can be integer or string and expressions will be mathematical operators.\n",
    "\n",
    "* \n",
    "'hello'\n",
    "-87.8\n",
    "- \n",
    "/ \n",
    " +\t\n",
    "6 \n"
   ]
  },
  {
   "cell_type": "markdown",
   "id": "23959fed",
   "metadata": {},
   "source": [
    "Values='hello',-87.8,6\n",
    "expression=*,+,/"
   ]
  },
  {
   "cell_type": "markdown",
   "id": "90a83e3a",
   "metadata": {},
   "source": [
    "2. What is the difference between string and variable?"
   ]
  },
  {
   "cell_type": "markdown",
   "id": "7e41e7de",
   "metadata": {},
   "source": [
    "Sequence of characters inside quotation is called string\n",
    "variable is as a container to store the data"
   ]
  },
  {
   "cell_type": "markdown",
   "id": "3d2200fc",
   "metadata": {},
   "source": [
    "3. Describe three different data types."
   ]
  },
  {
   "cell_type": "markdown",
   "id": "04e1626d",
   "metadata": {},
   "source": [
    "Data types:\n",
    "\n",
    "String-Sequence of characters inside quotation e.g. 'Hello'\n",
    "integer- whole number e.g. 5,41,52\n",
    "float - Decimal number e.g. 2.5,5.0,7.5"
   ]
  },
  {
   "cell_type": "markdown",
   "id": "36a47d80",
   "metadata": {},
   "source": [
    "4. What is an expression made up of? What do all expressions do?"
   ]
  },
  {
   "cell_type": "markdown",
   "id": "e9b0546c",
   "metadata": {},
   "source": [
    "Expression made up of values, containers, operators and operands."
   ]
  },
  {
   "cell_type": "markdown",
   "id": "b5c578c5",
   "metadata": {},
   "source": [
    "5. This assignment statements, like spam = 10. What is the difference between an expression and a statement?"
   ]
  },
  {
   "cell_type": "markdown",
   "id": "31355657",
   "metadata": {},
   "source": [
    "Expression is combination of mathematical operators and operands which produce other value and statement is just like a commend which execute in run window with the help of python interpreter."
   ]
  },
  {
   "cell_type": "markdown",
   "id": "be97e4a2",
   "metadata": {},
   "source": [
    "6. After running the following code, what does the variable bacon contain?\n",
    "bacon = 22\n",
    "bacon + 1\n"
   ]
  },
  {
   "cell_type": "markdown",
   "id": "acb82398",
   "metadata": {},
   "source": [
    "23"
   ]
  },
  {
   "cell_type": "markdown",
   "id": "eaafb892",
   "metadata": {},
   "source": [
    "7. What should the values of the following two terms be?\n",
    "'spam' + 'spamspam'\n",
    "'spam' * 3\n"
   ]
  },
  {
   "cell_type": "markdown",
   "id": "55e59846",
   "metadata": {},
   "source": [
    " 'spam' + 'spamspam'  =’spamspamspam’\n",
    "'spam' * 3= 'spamspamspam'"
   ]
  },
  {
   "cell_type": "markdown",
   "id": "cb6d5cc3",
   "metadata": {},
   "source": [
    "8. Why is eggs a valid variable name while 100 is invalid?"
   ]
  },
  {
   "cell_type": "markdown",
   "id": "75fd3cc7",
   "metadata": {},
   "source": [
    "Variable name can be start with any alphabet or combine of letters and numbers but letter should be at first location. Variables can’t begin with numerical value. "
   ]
  },
  {
   "cell_type": "markdown",
   "id": "dee66fee",
   "metadata": {},
   "source": [
    "9. What three functions can be used to get the integer, floating-point number, or string version of a value?"
   ]
  },
  {
   "cell_type": "markdown",
   "id": "5731ab87",
   "metadata": {},
   "source": [
    "Integer is int(),floating-point number is float() and string is str()"
   ]
  },
  {
   "cell_type": "markdown",
   "id": "55d8edcf",
   "metadata": {},
   "source": [
    "10. Why does this expression cause an error? How can you fix it?\n",
    "'I have eaten ' + 99 + ' burritos.'\n"
   ]
  },
  {
   "cell_type": "markdown",
   "id": "ec3838c7",
   "metadata": {},
   "source": [
    "We can concatenate only string to string not integer so we have to make 99 as a string with quotation like ‘99’\n",
    "'I have eaten ' + ‘99’ + ' burritos.'\n"
   ]
  }
 ],
 "metadata": {
  "kernelspec": {
   "display_name": "Python 3 (ipykernel)",
   "language": "python",
   "name": "python3"
  },
  "language_info": {
   "codemirror_mode": {
    "name": "ipython",
    "version": 3
   },
   "file_extension": ".py",
   "mimetype": "text/x-python",
   "name": "python",
   "nbconvert_exporter": "python",
   "pygments_lexer": "ipython3",
   "version": "3.9.7"
  }
 },
 "nbformat": 4,
 "nbformat_minor": 5
}
